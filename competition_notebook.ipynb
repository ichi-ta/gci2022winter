{
  "nbformat": 4,
  "nbformat_minor": 0,
  "metadata": {
    "colab": {
      "provenance": [],
      "collapsed_sections": [
        "gHT6QJD_u9i8"
      ],
      "include_colab_link": true
    },
    "kernelspec": {
      "name": "python3",
      "display_name": "Python 3"
    },
    "language_info": {
      "name": "python"
    }
  },
  "cells": [
    {
      "cell_type": "markdown",
      "metadata": {
        "id": "view-in-github",
        "colab_type": "text"
      },
      "source": [
        "<a href=\"https://colab.research.google.com/github/ichi-ta/gci2022winter/blob/main/competition_notebook.ipynb\" target=\"_parent\"><img src=\"https://colab.research.google.com/assets/colab-badge.svg\" alt=\"Open In Colab\"/></a>"
      ]
    },
    {
      "cell_type": "code",
      "execution_count": 106,
      "metadata": {
        "id": "ikq9WeWwwxpM"
      },
      "outputs": [],
      "source": [
        "import numpy as np\n",
        "import pandas as pd\n",
        "import matplotlib.pyplot as plt\n",
        "import seaborn as sns\n",
        "from sklearn.preprocessing import LabelEncoder\n",
        "\n",
        "import warnings\n",
        "warnings.filterwarnings('ignore')"
      ]
    },
    {
      "cell_type": "code",
      "source": [
        "from sklearn.model_selection import train_test_split\n",
        "from sklearn.preprocessing import StandardScaler\n",
        "from sklearn.metrics import roc_auc_score"
      ],
      "metadata": {
        "id": "uaVXwD9cW_yg"
      },
      "execution_count": 107,
      "outputs": []
    },
    {
      "cell_type": "markdown",
      "source": [
        "## データの加工"
      ],
      "metadata": {
        "id": "myowFPy_vkLI"
      }
    },
    {
      "cell_type": "code",
      "source": [
        "train = pd.read_csv(\"/content/train.csv\")\n",
        "test  = pd.read_csv(\"/content/test.csv\")\n",
        "#sample_sub = pd.read_csv(\"/content/drive/MyDrive/GCI2022Winter/competition2/sample_submission.csv\")"
      ],
      "metadata": {
        "id": "on_sE0NJKaDl"
      },
      "execution_count": 108,
      "outputs": []
    },
    {
      "cell_type": "code",
      "source": [
        "train = train.drop([\"OCCUPATION_TYPE\",\"EXT_SOURCE_1\",\"EXT_SOURCE_3\"], axis=1)\n",
        "test = test.drop([\"OCCUPATION_TYPE\",\"EXT_SOURCE_1\",\"EXT_SOURCE_3\"], axis=1)"
      ],
      "metadata": {
        "id": "cWqlKzCAKaD4"
      },
      "execution_count": 109,
      "outputs": []
    },
    {
      "cell_type": "code",
      "source": [
        "train.columns[36:48]"
      ],
      "metadata": {
        "colab": {
          "base_uri": "https://localhost:8080/"
        },
        "outputId": "0fc5a6e1-c53b-4424-eae7-d9cc4ad1976d",
        "id": "UThv09CYKaD5"
      },
      "execution_count": 110,
      "outputs": [
        {
          "output_type": "execute_result",
          "data": {
            "text/plain": [
              "Index(['LIVE_CITY_NOT_WORK_CITY', 'ORGANIZATION_TYPE', 'EXT_SOURCE_2',\n",
              "       'OBS_30_CNT_SOCIAL_CIRCLE', 'DEF_30_CNT_SOCIAL_CIRCLE',\n",
              "       'OBS_60_CNT_SOCIAL_CIRCLE', 'DEF_60_CNT_SOCIAL_CIRCLE',\n",
              "       'DAYS_LAST_PHONE_CHANGE', 'AMT_REQ_CREDIT_BUREAU_HOUR',\n",
              "       'AMT_REQ_CREDIT_BUREAU_MON', 'AMT_REQ_CREDIT_BUREAU_QRT',\n",
              "       'AMT_REQ_CREDIT_BUREAU_YEAR'],\n",
              "      dtype='object')"
            ]
          },
          "metadata": {},
          "execution_count": 110
        }
      ]
    },
    {
      "cell_type": "markdown",
      "source": [
        "エンコードや欠損値の補完を行っている。"
      ],
      "metadata": {
        "id": "6sZw0uB2KaD6"
      }
    },
    {
      "cell_type": "code",
      "source": [
        "organization_ce = train['ORGANIZATION_TYPE'].value_counts()\n",
        "train['ORGANIZATION_TYPE'] = train['ORGANIZATION_TYPE'].map(organization_ce)\n",
        "test['ORGANIZATION_TYPE'] = test['ORGANIZATION_TYPE'].map(organization_ce)\n",
        "\n",
        "#平均値で欠損値を補完\n",
        "for f in train.columns[36:51]:\n",
        "  train[f].fillna(train[f].mean(), inplace=True)\n",
        "  test[f].fillna(test[f].mean(), inplace=True)\n",
        "\n",
        "train['AMT_GOODS_PRICE'].fillna(train['AMT_GOODS_PRICE'].mean(), inplace=True)\n",
        "test['AMT_GOODS_PRICE'].fillna(test['AMT_GOODS_PRICE'].mean(), inplace=True)\n",
        "\n",
        "train[\"CNT_FAM_MEMBERS\"].fillna(train[\"CNT_FAM_MEMBERS\"].mean(), inplace=True)\n",
        "test[\"CNT_FAM_MEMBERS\"].fillna(test[\"CNT_FAM_MEMBERS\"].mean(), inplace=True)\n",
        "\n",
        "#中央値で欠損値を補完\n",
        "train[\"AMT_ANNUITY\"].fillna(train[\"AMT_ANNUITY\"].median(), inplace=True)\n",
        "test[\"AMT_ANNUITY\"].fillna(test[\"AMT_ANNUITY\"].median(), inplace=True)"
      ],
      "metadata": {
        "id": "bGtI7_btKaD6"
      },
      "execution_count": 111,
      "outputs": []
    },
    {
      "cell_type": "code",
      "source": [
        "#One Hot Encoding\n",
        "train.loc[train[\"OWN_CAR_AGE\"] >= 60, \"OWN_CAR_AGE\"] = np.nan\n",
        "test.loc[test[\"OWN_CAR_AGE\"] >= 60, \"OWN_CAR_AGE\"] = np.nan\n",
        "\n",
        "train[\"OWN_CAR_AGE\"] = train[\"OWN_CAR_AGE\"] // 10\n",
        "test[\"OWN_CAR_AGE\"] = test[\"OWN_CAR_AGE\"] // 10\n",
        "\n",
        "train_car_age_ohe = pd.get_dummies(train['OWN_CAR_AGE']).add_prefix(\"OWN_CAR_AGE_\")\n",
        "test_car_age_ohe = pd.get_dummies(test['OWN_CAR_AGE']).add_prefix(\"OWN_CAR_AGE_\")\n",
        "\n",
        "train = pd.concat([train, train_car_age_ohe], axis=1)\n",
        "test = pd.concat([test, test_car_age_ohe], axis=1)\n",
        "\n",
        "train.drop('OWN_CAR_AGE', axis=1, inplace=True)\n",
        "test.drop('OWN_CAR_AGE', axis=1, inplace=True)"
      ],
      "metadata": {
        "id": "aIChJn7zKaD7"
      },
      "execution_count": 112,
      "outputs": []
    },
    {
      "cell_type": "code",
      "source": [
        "#Label Encoding\n",
        "le = LabelEncoder()\n",
        "le_features = train.select_dtypes(include=\"object\").columns[:10]\n",
        "for feature in le_features:\n",
        "  train[feature] = le.fit_transform(train[feature].values)\n",
        "  test[feature]  = le.fit_transform(test[feature].values)"
      ],
      "metadata": {
        "id": "xHubxqN7KaD7"
      },
      "execution_count": 113,
      "outputs": []
    },
    {
      "cell_type": "code",
      "source": [
        "train"
      ],
      "metadata": {
        "colab": {
          "base_uri": "https://localhost:8080/",
          "height": 0
        },
        "id": "RmL4jbkpK3Lh",
        "outputId": "3b2652b6-1796-4271-9a54-3e9608b32e32"
      },
      "execution_count": 114,
      "outputs": [
        {
          "output_type": "execute_result",
          "data": {
            "text/plain": [
              "        SK_ID_CURR  TARGET  NAME_CONTRACT_TYPE  CODE_GENDER  FLAG_OWN_CAR  \\\n",
              "0                0       0                   0            0             0   \n",
              "1                1       0                   0            0             0   \n",
              "2                2       0                   0            0             0   \n",
              "3                3       0                   0            0             0   \n",
              "4                4       1                   0            1             0   \n",
              "...            ...     ...                 ...          ...           ...   \n",
              "171197      171197       0                   0            1             2   \n",
              "171198      171198       0                   0            0             1   \n",
              "171199      171199       0                   0            0             0   \n",
              "171200      171200       0                   0            1             1   \n",
              "171201      171201       0                   0            0             2   \n",
              "\n",
              "        FLAG_OWN_REALTY  CNT_CHILDREN  AMT_INCOME_TOTAL  AMT_CREDIT  \\\n",
              "0                     0             0          112500.0    755190.0   \n",
              "1                     1             0          225000.0    585000.0   \n",
              "2                     1             0           54000.0    334152.0   \n",
              "3                     1             0           67500.0    152820.0   \n",
              "4                     0             0          157500.0    271066.5   \n",
              "...                 ...           ...               ...         ...   \n",
              "171197                2             0           83250.0    404325.0   \n",
              "171198                1             0          247500.0    601470.0   \n",
              "171199                0             2          292500.0   1237684.5   \n",
              "171200                0             0          112500.0    239850.0   \n",
              "171201                2             0          108000.0    161730.0   \n",
              "\n",
              "        AMT_ANNUITY  ...  AMT_REQ_CREDIT_BUREAU_HOUR  \\\n",
              "0           36328.5  ...                    0.006652   \n",
              "1           16893.0  ...                    0.000000   \n",
              "2           18256.5  ...                    0.006652   \n",
              "3            8901.0  ...                    0.000000   \n",
              "4           21546.0  ...                    0.000000   \n",
              "...             ...  ...                         ...   \n",
              "171197      20772.0  ...                    0.000000   \n",
              "171198      29065.5  ...                    0.000000   \n",
              "171199      49216.5  ...                    0.000000   \n",
              "171200      25186.5  ...                    0.006652   \n",
              "171201       8595.0  ...                    0.000000   \n",
              "\n",
              "        AMT_REQ_CREDIT_BUREAU_MON  AMT_REQ_CREDIT_BUREAU_QRT  \\\n",
              "0                        0.268418                   0.267547   \n",
              "1                        0.000000                   0.000000   \n",
              "2                        0.268418                   0.267547   \n",
              "3                        0.000000                   0.000000   \n",
              "4                        0.000000                   0.000000   \n",
              "...                           ...                        ...   \n",
              "171197                   0.000000                   1.000000   \n",
              "171198                   0.000000                   1.000000   \n",
              "171199                   0.000000                   0.000000   \n",
              "171200                   0.268418                   0.267547   \n",
              "171201                   0.000000                   0.000000   \n",
              "\n",
              "        AMT_REQ_CREDIT_BUREAU_YEAR  OWN_CAR_AGE_0.0  OWN_CAR_AGE_1.0  \\\n",
              "0                         1.903644                0                0   \n",
              "1                         1.000000                0                0   \n",
              "2                         1.903644                0                0   \n",
              "3                         0.000000                0                0   \n",
              "4                         4.000000                0                0   \n",
              "...                            ...              ...              ...   \n",
              "171197                    0.000000                0                0   \n",
              "171198                    5.000000                1                0   \n",
              "171199                    1.000000                0                0   \n",
              "171200                    1.903644                1                0   \n",
              "171201                    1.000000                0                0   \n",
              "\n",
              "        OWN_CAR_AGE_2.0  OWN_CAR_AGE_3.0  OWN_CAR_AGE_4.0  OWN_CAR_AGE_5.0  \n",
              "0                     0                0                0                0  \n",
              "1                     0                0                0                0  \n",
              "2                     0                0                0                0  \n",
              "3                     0                0                0                0  \n",
              "4                     0                0                0                0  \n",
              "...                 ...              ...              ...              ...  \n",
              "171197                1                0                0                0  \n",
              "171198                0                0                0                0  \n",
              "171199                0                0                0                0  \n",
              "171200                0                0                0                0  \n",
              "171201                0                0                0                0  \n",
              "\n",
              "[171202 rows x 53 columns]"
            ],
            "text/html": [
              "\n",
              "  <div id=\"df-f1d297e2-9ed7-4f40-8d4a-cccdf5d25863\">\n",
              "    <div class=\"colab-df-container\">\n",
              "      <div>\n",
              "<style scoped>\n",
              "    .dataframe tbody tr th:only-of-type {\n",
              "        vertical-align: middle;\n",
              "    }\n",
              "\n",
              "    .dataframe tbody tr th {\n",
              "        vertical-align: top;\n",
              "    }\n",
              "\n",
              "    .dataframe thead th {\n",
              "        text-align: right;\n",
              "    }\n",
              "</style>\n",
              "<table border=\"1\" class=\"dataframe\">\n",
              "  <thead>\n",
              "    <tr style=\"text-align: right;\">\n",
              "      <th></th>\n",
              "      <th>SK_ID_CURR</th>\n",
              "      <th>TARGET</th>\n",
              "      <th>NAME_CONTRACT_TYPE</th>\n",
              "      <th>CODE_GENDER</th>\n",
              "      <th>FLAG_OWN_CAR</th>\n",
              "      <th>FLAG_OWN_REALTY</th>\n",
              "      <th>CNT_CHILDREN</th>\n",
              "      <th>AMT_INCOME_TOTAL</th>\n",
              "      <th>AMT_CREDIT</th>\n",
              "      <th>AMT_ANNUITY</th>\n",
              "      <th>...</th>\n",
              "      <th>AMT_REQ_CREDIT_BUREAU_HOUR</th>\n",
              "      <th>AMT_REQ_CREDIT_BUREAU_MON</th>\n",
              "      <th>AMT_REQ_CREDIT_BUREAU_QRT</th>\n",
              "      <th>AMT_REQ_CREDIT_BUREAU_YEAR</th>\n",
              "      <th>OWN_CAR_AGE_0.0</th>\n",
              "      <th>OWN_CAR_AGE_1.0</th>\n",
              "      <th>OWN_CAR_AGE_2.0</th>\n",
              "      <th>OWN_CAR_AGE_3.0</th>\n",
              "      <th>OWN_CAR_AGE_4.0</th>\n",
              "      <th>OWN_CAR_AGE_5.0</th>\n",
              "    </tr>\n",
              "  </thead>\n",
              "  <tbody>\n",
              "    <tr>\n",
              "      <th>0</th>\n",
              "      <td>0</td>\n",
              "      <td>0</td>\n",
              "      <td>0</td>\n",
              "      <td>0</td>\n",
              "      <td>0</td>\n",
              "      <td>0</td>\n",
              "      <td>0</td>\n",
              "      <td>112500.0</td>\n",
              "      <td>755190.0</td>\n",
              "      <td>36328.5</td>\n",
              "      <td>...</td>\n",
              "      <td>0.006652</td>\n",
              "      <td>0.268418</td>\n",
              "      <td>0.267547</td>\n",
              "      <td>1.903644</td>\n",
              "      <td>0</td>\n",
              "      <td>0</td>\n",
              "      <td>0</td>\n",
              "      <td>0</td>\n",
              "      <td>0</td>\n",
              "      <td>0</td>\n",
              "    </tr>\n",
              "    <tr>\n",
              "      <th>1</th>\n",
              "      <td>1</td>\n",
              "      <td>0</td>\n",
              "      <td>0</td>\n",
              "      <td>0</td>\n",
              "      <td>0</td>\n",
              "      <td>1</td>\n",
              "      <td>0</td>\n",
              "      <td>225000.0</td>\n",
              "      <td>585000.0</td>\n",
              "      <td>16893.0</td>\n",
              "      <td>...</td>\n",
              "      <td>0.000000</td>\n",
              "      <td>0.000000</td>\n",
              "      <td>0.000000</td>\n",
              "      <td>1.000000</td>\n",
              "      <td>0</td>\n",
              "      <td>0</td>\n",
              "      <td>0</td>\n",
              "      <td>0</td>\n",
              "      <td>0</td>\n",
              "      <td>0</td>\n",
              "    </tr>\n",
              "    <tr>\n",
              "      <th>2</th>\n",
              "      <td>2</td>\n",
              "      <td>0</td>\n",
              "      <td>0</td>\n",
              "      <td>0</td>\n",
              "      <td>0</td>\n",
              "      <td>1</td>\n",
              "      <td>0</td>\n",
              "      <td>54000.0</td>\n",
              "      <td>334152.0</td>\n",
              "      <td>18256.5</td>\n",
              "      <td>...</td>\n",
              "      <td>0.006652</td>\n",
              "      <td>0.268418</td>\n",
              "      <td>0.267547</td>\n",
              "      <td>1.903644</td>\n",
              "      <td>0</td>\n",
              "      <td>0</td>\n",
              "      <td>0</td>\n",
              "      <td>0</td>\n",
              "      <td>0</td>\n",
              "      <td>0</td>\n",
              "    </tr>\n",
              "    <tr>\n",
              "      <th>3</th>\n",
              "      <td>3</td>\n",
              "      <td>0</td>\n",
              "      <td>0</td>\n",
              "      <td>0</td>\n",
              "      <td>0</td>\n",
              "      <td>1</td>\n",
              "      <td>0</td>\n",
              "      <td>67500.0</td>\n",
              "      <td>152820.0</td>\n",
              "      <td>8901.0</td>\n",
              "      <td>...</td>\n",
              "      <td>0.000000</td>\n",
              "      <td>0.000000</td>\n",
              "      <td>0.000000</td>\n",
              "      <td>0.000000</td>\n",
              "      <td>0</td>\n",
              "      <td>0</td>\n",
              "      <td>0</td>\n",
              "      <td>0</td>\n",
              "      <td>0</td>\n",
              "      <td>0</td>\n",
              "    </tr>\n",
              "    <tr>\n",
              "      <th>4</th>\n",
              "      <td>4</td>\n",
              "      <td>1</td>\n",
              "      <td>0</td>\n",
              "      <td>1</td>\n",
              "      <td>0</td>\n",
              "      <td>0</td>\n",
              "      <td>0</td>\n",
              "      <td>157500.0</td>\n",
              "      <td>271066.5</td>\n",
              "      <td>21546.0</td>\n",
              "      <td>...</td>\n",
              "      <td>0.000000</td>\n",
              "      <td>0.000000</td>\n",
              "      <td>0.000000</td>\n",
              "      <td>4.000000</td>\n",
              "      <td>0</td>\n",
              "      <td>0</td>\n",
              "      <td>0</td>\n",
              "      <td>0</td>\n",
              "      <td>0</td>\n",
              "      <td>0</td>\n",
              "    </tr>\n",
              "    <tr>\n",
              "      <th>...</th>\n",
              "      <td>...</td>\n",
              "      <td>...</td>\n",
              "      <td>...</td>\n",
              "      <td>...</td>\n",
              "      <td>...</td>\n",
              "      <td>...</td>\n",
              "      <td>...</td>\n",
              "      <td>...</td>\n",
              "      <td>...</td>\n",
              "      <td>...</td>\n",
              "      <td>...</td>\n",
              "      <td>...</td>\n",
              "      <td>...</td>\n",
              "      <td>...</td>\n",
              "      <td>...</td>\n",
              "      <td>...</td>\n",
              "      <td>...</td>\n",
              "      <td>...</td>\n",
              "      <td>...</td>\n",
              "      <td>...</td>\n",
              "      <td>...</td>\n",
              "    </tr>\n",
              "    <tr>\n",
              "      <th>171197</th>\n",
              "      <td>171197</td>\n",
              "      <td>0</td>\n",
              "      <td>0</td>\n",
              "      <td>1</td>\n",
              "      <td>2</td>\n",
              "      <td>2</td>\n",
              "      <td>0</td>\n",
              "      <td>83250.0</td>\n",
              "      <td>404325.0</td>\n",
              "      <td>20772.0</td>\n",
              "      <td>...</td>\n",
              "      <td>0.000000</td>\n",
              "      <td>0.000000</td>\n",
              "      <td>1.000000</td>\n",
              "      <td>0.000000</td>\n",
              "      <td>0</td>\n",
              "      <td>0</td>\n",
              "      <td>1</td>\n",
              "      <td>0</td>\n",
              "      <td>0</td>\n",
              "      <td>0</td>\n",
              "    </tr>\n",
              "    <tr>\n",
              "      <th>171198</th>\n",
              "      <td>171198</td>\n",
              "      <td>0</td>\n",
              "      <td>0</td>\n",
              "      <td>0</td>\n",
              "      <td>1</td>\n",
              "      <td>1</td>\n",
              "      <td>0</td>\n",
              "      <td>247500.0</td>\n",
              "      <td>601470.0</td>\n",
              "      <td>29065.5</td>\n",
              "      <td>...</td>\n",
              "      <td>0.000000</td>\n",
              "      <td>0.000000</td>\n",
              "      <td>1.000000</td>\n",
              "      <td>5.000000</td>\n",
              "      <td>1</td>\n",
              "      <td>0</td>\n",
              "      <td>0</td>\n",
              "      <td>0</td>\n",
              "      <td>0</td>\n",
              "      <td>0</td>\n",
              "    </tr>\n",
              "    <tr>\n",
              "      <th>171199</th>\n",
              "      <td>171199</td>\n",
              "      <td>0</td>\n",
              "      <td>0</td>\n",
              "      <td>0</td>\n",
              "      <td>0</td>\n",
              "      <td>0</td>\n",
              "      <td>2</td>\n",
              "      <td>292500.0</td>\n",
              "      <td>1237684.5</td>\n",
              "      <td>49216.5</td>\n",
              "      <td>...</td>\n",
              "      <td>0.000000</td>\n",
              "      <td>0.000000</td>\n",
              "      <td>0.000000</td>\n",
              "      <td>1.000000</td>\n",
              "      <td>0</td>\n",
              "      <td>0</td>\n",
              "      <td>0</td>\n",
              "      <td>0</td>\n",
              "      <td>0</td>\n",
              "      <td>0</td>\n",
              "    </tr>\n",
              "    <tr>\n",
              "      <th>171200</th>\n",
              "      <td>171200</td>\n",
              "      <td>0</td>\n",
              "      <td>0</td>\n",
              "      <td>1</td>\n",
              "      <td>1</td>\n",
              "      <td>0</td>\n",
              "      <td>0</td>\n",
              "      <td>112500.0</td>\n",
              "      <td>239850.0</td>\n",
              "      <td>25186.5</td>\n",
              "      <td>...</td>\n",
              "      <td>0.006652</td>\n",
              "      <td>0.268418</td>\n",
              "      <td>0.267547</td>\n",
              "      <td>1.903644</td>\n",
              "      <td>1</td>\n",
              "      <td>0</td>\n",
              "      <td>0</td>\n",
              "      <td>0</td>\n",
              "      <td>0</td>\n",
              "      <td>0</td>\n",
              "    </tr>\n",
              "    <tr>\n",
              "      <th>171201</th>\n",
              "      <td>171201</td>\n",
              "      <td>0</td>\n",
              "      <td>0</td>\n",
              "      <td>0</td>\n",
              "      <td>2</td>\n",
              "      <td>2</td>\n",
              "      <td>0</td>\n",
              "      <td>108000.0</td>\n",
              "      <td>161730.0</td>\n",
              "      <td>8595.0</td>\n",
              "      <td>...</td>\n",
              "      <td>0.000000</td>\n",
              "      <td>0.000000</td>\n",
              "      <td>0.000000</td>\n",
              "      <td>1.000000</td>\n",
              "      <td>0</td>\n",
              "      <td>0</td>\n",
              "      <td>0</td>\n",
              "      <td>0</td>\n",
              "      <td>0</td>\n",
              "      <td>0</td>\n",
              "    </tr>\n",
              "  </tbody>\n",
              "</table>\n",
              "<p>171202 rows × 53 columns</p>\n",
              "</div>\n",
              "      <button class=\"colab-df-convert\" onclick=\"convertToInteractive('df-f1d297e2-9ed7-4f40-8d4a-cccdf5d25863')\"\n",
              "              title=\"Convert this dataframe to an interactive table.\"\n",
              "              style=\"display:none;\">\n",
              "        \n",
              "  <svg xmlns=\"http://www.w3.org/2000/svg\" height=\"24px\"viewBox=\"0 0 24 24\"\n",
              "       width=\"24px\">\n",
              "    <path d=\"M0 0h24v24H0V0z\" fill=\"none\"/>\n",
              "    <path d=\"M18.56 5.44l.94 2.06.94-2.06 2.06-.94-2.06-.94-.94-2.06-.94 2.06-2.06.94zm-11 1L8.5 8.5l.94-2.06 2.06-.94-2.06-.94L8.5 2.5l-.94 2.06-2.06.94zm10 10l.94 2.06.94-2.06 2.06-.94-2.06-.94-.94-2.06-.94 2.06-2.06.94z\"/><path d=\"M17.41 7.96l-1.37-1.37c-.4-.4-.92-.59-1.43-.59-.52 0-1.04.2-1.43.59L10.3 9.45l-7.72 7.72c-.78.78-.78 2.05 0 2.83L4 21.41c.39.39.9.59 1.41.59.51 0 1.02-.2 1.41-.59l7.78-7.78 2.81-2.81c.8-.78.8-2.07 0-2.86zM5.41 20L4 18.59l7.72-7.72 1.47 1.35L5.41 20z\"/>\n",
              "  </svg>\n",
              "      </button>\n",
              "      \n",
              "  <style>\n",
              "    .colab-df-container {\n",
              "      display:flex;\n",
              "      flex-wrap:wrap;\n",
              "      gap: 12px;\n",
              "    }\n",
              "\n",
              "    .colab-df-convert {\n",
              "      background-color: #E8F0FE;\n",
              "      border: none;\n",
              "      border-radius: 50%;\n",
              "      cursor: pointer;\n",
              "      display: none;\n",
              "      fill: #1967D2;\n",
              "      height: 32px;\n",
              "      padding: 0 0 0 0;\n",
              "      width: 32px;\n",
              "    }\n",
              "\n",
              "    .colab-df-convert:hover {\n",
              "      background-color: #E2EBFA;\n",
              "      box-shadow: 0px 1px 2px rgba(60, 64, 67, 0.3), 0px 1px 3px 1px rgba(60, 64, 67, 0.15);\n",
              "      fill: #174EA6;\n",
              "    }\n",
              "\n",
              "    [theme=dark] .colab-df-convert {\n",
              "      background-color: #3B4455;\n",
              "      fill: #D2E3FC;\n",
              "    }\n",
              "\n",
              "    [theme=dark] .colab-df-convert:hover {\n",
              "      background-color: #434B5C;\n",
              "      box-shadow: 0px 1px 3px 1px rgba(0, 0, 0, 0.15);\n",
              "      filter: drop-shadow(0px 1px 2px rgba(0, 0, 0, 0.3));\n",
              "      fill: #FFFFFF;\n",
              "    }\n",
              "  </style>\n",
              "\n",
              "      <script>\n",
              "        const buttonEl =\n",
              "          document.querySelector('#df-f1d297e2-9ed7-4f40-8d4a-cccdf5d25863 button.colab-df-convert');\n",
              "        buttonEl.style.display =\n",
              "          google.colab.kernel.accessAllowed ? 'block' : 'none';\n",
              "\n",
              "        async function convertToInteractive(key) {\n",
              "          const element = document.querySelector('#df-f1d297e2-9ed7-4f40-8d4a-cccdf5d25863');\n",
              "          const dataTable =\n",
              "            await google.colab.kernel.invokeFunction('convertToInteractive',\n",
              "                                                     [key], {});\n",
              "          if (!dataTable) return;\n",
              "\n",
              "          const docLinkHtml = 'Like what you see? Visit the ' +\n",
              "            '<a target=\"_blank\" href=https://colab.research.google.com/notebooks/data_table.ipynb>data table notebook</a>'\n",
              "            + ' to learn more about interactive tables.';\n",
              "          element.innerHTML = '';\n",
              "          dataTable['output_type'] = 'display_data';\n",
              "          await google.colab.output.renderOutput(dataTable, element);\n",
              "          const docLink = document.createElement('div');\n",
              "          docLink.innerHTML = docLinkHtml;\n",
              "          element.appendChild(docLink);\n",
              "        }\n",
              "      </script>\n",
              "    </div>\n",
              "  </div>\n",
              "  "
            ]
          },
          "metadata": {},
          "execution_count": 114
        }
      ]
    },
    {
      "cell_type": "markdown",
      "source": [
        "## Variance Threshold\n",
        "分散をしきい値として特徴量を選択"
      ],
      "metadata": {
        "id": "gHT6QJD_u9i8"
      }
    },
    {
      "cell_type": "code",
      "source": [
        "from sklearn.feature_selection import VarianceThreshold\n",
        "\n",
        "sel = VarianceThreshold()\n",
        "sel.fit_transform(X_select)"
      ],
      "metadata": {
        "colab": {
          "base_uri": "https://localhost:8080/"
        },
        "id": "R_ce61FykYXu",
        "outputId": "fc422741-3174-4fa3-81c4-fbbd75a4a935"
      },
      "execution_count": 115,
      "outputs": [
        {
          "output_type": "execute_result",
          "data": {
            "text/plain": [
              "array([[0.00000e+00, 0.00000e+00, 0.00000e+00, ..., 0.00000e+00,\n",
              "        0.00000e+00, 0.00000e+00],\n",
              "       [1.00000e+00, 0.00000e+00, 0.00000e+00, ..., 0.00000e+00,\n",
              "        0.00000e+00, 0.00000e+00],\n",
              "       [2.00000e+00, 0.00000e+00, 0.00000e+00, ..., 0.00000e+00,\n",
              "        0.00000e+00, 0.00000e+00],\n",
              "       ...,\n",
              "       [1.71199e+05, 0.00000e+00, 0.00000e+00, ..., 0.00000e+00,\n",
              "        0.00000e+00, 0.00000e+00],\n",
              "       [1.71200e+05, 0.00000e+00, 1.00000e+00, ..., 0.00000e+00,\n",
              "        0.00000e+00, 0.00000e+00],\n",
              "       [1.71201e+05, 0.00000e+00, 0.00000e+00, ..., 0.00000e+00,\n",
              "        0.00000e+00, 0.00000e+00]])"
            ]
          },
          "metadata": {},
          "execution_count": 115
        }
      ]
    },
    {
      "cell_type": "code",
      "source": [
        "X_new = pd.DataFrame(sel.fit_transform(X_select), columns=X_select.columns.values[sel.get_support()])\n",
        "print('Before Feature Selection:', X_select.shape)\n",
        "print('After Feature Selection:', X_new.shape)\n",
        "\n",
        "result = pd.DataFrame(sel.get_support(), index=X_select.columns.values, columns=['False: dropped'])\n",
        "result['variance'] = sel.variances_\n",
        "print(result)"
      ],
      "metadata": {
        "colab": {
          "base_uri": "https://localhost:8080/"
        },
        "id": "qxZpB39mkfxl",
        "outputId": "ae63e30e-1401-46da-e8b0-11f4b338cd92"
      },
      "execution_count": 116,
      "outputs": [
        {
          "output_type": "stream",
          "name": "stdout",
          "text": [
            "Before Feature Selection: (171202, 52)\n",
            "After Feature Selection: (171202, 52)\n",
            "                             False: dropped      variance\n",
            "SK_ID_CURR                             True  1.712010e+05\n",
            "NAME_CONTRACT_TYPE                     True  8.573745e-02\n",
            "CODE_GENDER                            True  2.252778e-01\n",
            "FLAG_OWN_CAR                           True  6.202575e-01\n",
            "FLAG_OWN_REALTY                        True  4.437834e-01\n",
            "CNT_CHILDREN                           True  5.185954e-01\n",
            "AMT_INCOME_TOTAL                       True  1.347390e+07\n",
            "AMT_CREDIT                             True  4.005000e+06\n",
            "AMT_ANNUITY                            True  2.560455e+05\n",
            "AMT_GOODS_PRICE                        True  4.005000e+06\n",
            "NAME_TYPE_SUITE                        True  3.146668e+00\n",
            "NAME_INCOME_TYPE                       True  6.481835e+00\n",
            "NAME_EDUCATION_TYPE                    True  1.686400e+00\n",
            "NAME_FAMILY_STATUS                     True  1.366639e+00\n",
            "NAME_HOUSING_TYPE                      True  9.052451e-01\n",
            "REGION_POPULATION_RELATIVE             True  1.905310e-04\n",
            "DAYS_BIRTH                             True  1.755600e+04\n",
            "DAYS_EMPLOYED                          True  3.831550e+05\n",
            "DAYS_REGISTRATION                      True  2.467200e+04\n",
            "DAYS_ID_PUBLISH                        True  7.197000e+03\n",
            "FLAG_MOBIL                             True  5.841019e-06\n",
            "FLAG_EMP_PHONE                         True  1.479236e-01\n",
            "FLAG_WORK_PHONE                        True  1.598338e-01\n",
            "FLAG_CONT_MOBILE                       True  1.685215e-03\n",
            "FLAG_PHONE                             True  2.023232e-01\n",
            "FLAG_EMAIL                             True  5.382596e-02\n",
            "CNT_FAM_MEMBERS                        True  8.259855e-01\n",
            "REGION_RATING_CLIENT                   True  2.587927e-01\n",
            "REGION_RATING_CLIENT_W_CITY            True  2.525432e-01\n",
            "REG_REGION_NOT_LIVE_REGION             True  1.497309e-02\n",
            "REG_REGION_NOT_WORK_REGION             True  4.804583e-02\n",
            "LIVE_REGION_NOT_WORK_REGION            True  3.910295e-02\n",
            "REG_CITY_NOT_LIVE_CITY                 True  7.225227e-02\n",
            "REG_CITY_NOT_WORK_CITY                 True  1.771301e-01\n",
            "LIVE_CITY_NOT_WORK_CITY                True  1.470596e-01\n",
            "ORGANIZATION_TYPE                      True  3.793500e+04\n",
            "EXT_SOURCE_2                           True  3.650627e-02\n",
            "OBS_30_CNT_SOCIAL_CIRCLE               True  5.382042e+00\n",
            "DEF_30_CNT_SOCIAL_CIRCLE               True  1.961176e-01\n",
            "OBS_60_CNT_SOCIAL_CIRCLE               True  5.288909e+00\n",
            "DEF_60_CNT_SOCIAL_CIRCLE               True  1.292017e-01\n",
            "DAYS_LAST_PHONE_CHANGE                 True  4.173000e+03\n",
            "AMT_REQ_CREDIT_BUREAU_HOUR             True  6.427777e-03\n",
            "AMT_REQ_CREDIT_BUREAU_MON              True  7.337393e-01\n",
            "AMT_REQ_CREDIT_BUREAU_QRT              True  7.234365e-01\n",
            "AMT_REQ_CREDIT_BUREAU_YEAR             True  3.031963e+00\n",
            "OWN_CAR_AGE_0.0                        True  1.438871e-01\n",
            "OWN_CAR_AGE_1.0                        True  1.044736e-01\n",
            "OWN_CAR_AGE_2.0                        True  2.926436e-02\n",
            "OWN_CAR_AGE_3.0                        True  5.437335e-03\n",
            "OWN_CAR_AGE_4.0                        True  8.870518e-04\n",
            "OWN_CAR_AGE_5.0                        True  4.088570e-05\n"
          ]
        }
      ]
    },
    {
      "cell_type": "markdown",
      "source": [
        "すべて選択されてしまい、意味がなかった。"
      ],
      "metadata": {
        "id": "MGpO5PEIL6m3"
      }
    },
    {
      "cell_type": "code",
      "source": [
        "corr = train.corr(method='pearson')\n",
        "ax = sns.heatmap(\n",
        "    corr, \n",
        "    vmin=-1, vmax=1, center=0,\n",
        "    cmap=sns.diverging_palette(20, 220, n=200),\n",
        "    square=True\n",
        ")\n",
        "ax.set_xticklabels(\n",
        "    ax.get_xticklabels(),\n",
        "    rotation=45,\n",
        "    horizontalalignment='right'\n",
        "); "
      ],
      "metadata": {
        "colab": {
          "base_uri": "https://localhost:8080/",
          "height": 0
        },
        "id": "AsyF_ACMA2Qp",
        "outputId": "d2e60a25-daf8-40fd-fc14-9a482c217908"
      },
      "execution_count": 117,
      "outputs": [
        {
          "output_type": "display_data",
          "data": {
            "text/plain": [
              "<Figure size 432x288 with 2 Axes>"
            ],
            "image/png": "[encoded data removed]"
          },
          "metadata": {
            "needs_background": "light"
          }
        }
      ]
    },
    {
      "cell_type": "markdown",
      "source": [
        "## [Embedded Method](https://qiita.com/FukuharaYohei/items/db88a8f4c4310afb5a0d#3-embedded-method)\n",
        "参考にして特徴量選択を行った。"
      ],
      "metadata": {
        "id": "y3TJzmt8vCUu"
      }
    },
    {
      "cell_type": "code",
      "source": [
        "X_select = train.drop(\"TARGET\", axis=1)\n",
        "y_select = train[\"TARGET\"]\n",
        "target = train[\"TARGET\"].values"
      ],
      "metadata": {
        "id": "OIPhfh6LjJWI"
      },
      "execution_count": 118,
      "outputs": []
    },
    {
      "cell_type": "markdown",
      "source": [
        "### L1正則化線形モデル"
      ],
      "metadata": {
        "id": "ESLnINiLvyXI"
      }
    },
    {
      "cell_type": "code",
      "source": [
        "from sklearn.feature_selection import SelectFromModel"
      ],
      "metadata": {
        "id": "jLVz57v_wAru"
      },
      "execution_count": 119,
      "outputs": []
    },
    {
      "cell_type": "code",
      "source": [
        "#L1正則化線形モデル\n",
        "from sklearn.svm import LinearSVC\n",
        "svc = LinearSVC(C=0.01, penalty=\"l1\", dual=False)\n",
        "\n",
        "selector = SelectFromModel(svc)\n",
        "\n",
        "X_new_svc = pd.DataFrame(selector.fit_transform(X_select, train['TARGET']), \n",
        "                     columns=X_select.columns.values[selector.get_support()])\n",
        "result_svc = pd.DataFrame(selector.get_support(), index=X_select.columns.values, columns=['False: dropped'])\n",
        "result_svc['coef'] = selector.estimator_.coef_[0]  # Linearモデル用\n",
        "print(result_svc)"
      ],
      "metadata": {
        "id": "dO5pii8Slpgi",
        "colab": {
          "base_uri": "https://localhost:8080/"
        },
        "outputId": "a233a922-d1c0-49d7-f5bb-1713662a5790"
      },
      "execution_count": 120,
      "outputs": [
        {
          "output_type": "stream",
          "name": "stdout",
          "text": [
            "                             False: dropped          coef\n",
            "SK_ID_CURR                            False  2.598918e-08\n",
            "NAME_CONTRACT_TYPE                     True -4.142554e-02\n",
            "CODE_GENDER                            True  5.751240e-02\n",
            "FLAG_OWN_CAR                           True -4.268553e-03\n",
            "FLAG_OWN_REALTY                       False  0.000000e+00\n",
            "CNT_CHILDREN                           True  4.109126e-02\n",
            "AMT_INCOME_TOTAL                      False  1.043639e-08\n",
            "AMT_CREDIT                            False  3.722629e-07\n",
            "AMT_ANNUITY                           False  1.337961e-06\n",
            "AMT_GOODS_PRICE                       False -4.596850e-07\n",
            "NAME_TYPE_SUITE                        True  1.061986e-03\n",
            "NAME_INCOME_TYPE                       True  2.887581e-03\n",
            "NAME_EDUCATION_TYPE                    True  1.595660e-02\n",
            "NAME_FAMILY_STATUS                     True -1.234559e-02\n",
            "NAME_HOUSING_TYPE                      True  2.464530e-03\n",
            "REGION_POPULATION_RELATIVE            False  0.000000e+00\n",
            "DAYS_BIRTH                            False  6.213884e-06\n",
            "DAYS_EMPLOYED                         False -3.070937e-07\n",
            "DAYS_REGISTRATION                     False  2.370447e-06\n",
            "DAYS_ID_PUBLISH                        True  1.078724e-05\n",
            "FLAG_MOBIL                             True -1.375315e-01\n",
            "FLAG_EMP_PHONE                         True -1.036204e-01\n",
            "FLAG_WORK_PHONE                        True  2.992679e-02\n",
            "FLAG_CONT_MOBILE                       True -1.144490e-01\n",
            "FLAG_PHONE                             True -4.664929e-03\n",
            "FLAG_EMAIL                            False  0.000000e+00\n",
            "CNT_FAM_MEMBERS                        True -4.241431e-02\n",
            "REGION_RATING_CLIENT                   True -3.898906e-03\n",
            "REGION_RATING_CLIENT_W_CITY            True  1.937701e-02\n",
            "REG_REGION_NOT_LIVE_REGION            False  0.000000e+00\n",
            "REG_REGION_NOT_WORK_REGION            False  0.000000e+00\n",
            "LIVE_REGION_NOT_WORK_REGION           False  0.000000e+00\n",
            "REG_CITY_NOT_LIVE_CITY                 True  3.279312e-02\n",
            "REG_CITY_NOT_WORK_CITY                 True  4.514942e-03\n",
            "LIVE_CITY_NOT_WORK_CITY               False  0.000000e+00\n",
            "ORGANIZATION_TYPE                     False  7.353104e-07\n",
            "EXT_SOURCE_2                           True -3.888017e-01\n",
            "OBS_30_CNT_SOCIAL_CIRCLE               True  5.813926e-05\n",
            "DEF_30_CNT_SOCIAL_CIRCLE               True  2.103275e-02\n",
            "OBS_60_CNT_SOCIAL_CIRCLE              False  0.000000e+00\n",
            "DEF_60_CNT_SOCIAL_CIRCLE               True  1.664691e-02\n",
            "DAYS_LAST_PHONE_CHANGE                 True  1.445820e-05\n",
            "AMT_REQ_CREDIT_BUREAU_HOUR            False  0.000000e+00\n",
            "AMT_REQ_CREDIT_BUREAU_MON              True -1.231710e-03\n",
            "AMT_REQ_CREDIT_BUREAU_QRT              True -4.308192e-03\n",
            "AMT_REQ_CREDIT_BUREAU_YEAR             True  5.756940e-03\n",
            "OWN_CAR_AGE_0.0                        True -4.734003e-02\n",
            "OWN_CAR_AGE_1.0                        True -3.016929e-02\n",
            "OWN_CAR_AGE_2.0                        True -1.323764e-03\n",
            "OWN_CAR_AGE_3.0                       False  0.000000e+00\n",
            "OWN_CAR_AGE_4.0                       False  0.000000e+00\n",
            "OWN_CAR_AGE_5.0                       False  0.000000e+00\n"
          ]
        }
      ]
    },
    {
      "cell_type": "code",
      "source": [
        "use_features_svc = result_svc[result_svc['False: dropped'] == True].index\n",
        "use_features_svc"
      ],
      "metadata": {
        "id": "6HmuPVXZrGNo",
        "colab": {
          "base_uri": "https://localhost:8080/"
        },
        "outputId": "247d0d7d-4423-48d8-c0bc-c7872610c7a1"
      },
      "execution_count": 121,
      "outputs": [
        {
          "output_type": "execute_result",
          "data": {
            "text/plain": [
              "Index(['NAME_CONTRACT_TYPE', 'CODE_GENDER', 'FLAG_OWN_CAR', 'CNT_CHILDREN',\n",
              "       'NAME_TYPE_SUITE', 'NAME_INCOME_TYPE', 'NAME_EDUCATION_TYPE',\n",
              "       'NAME_FAMILY_STATUS', 'NAME_HOUSING_TYPE', 'DAYS_ID_PUBLISH',\n",
              "       'FLAG_MOBIL', 'FLAG_EMP_PHONE', 'FLAG_WORK_PHONE', 'FLAG_CONT_MOBILE',\n",
              "       'FLAG_PHONE', 'CNT_FAM_MEMBERS', 'REGION_RATING_CLIENT',\n",
              "       'REGION_RATING_CLIENT_W_CITY', 'REG_CITY_NOT_LIVE_CITY',\n",
              "       'REG_CITY_NOT_WORK_CITY', 'EXT_SOURCE_2', 'OBS_30_CNT_SOCIAL_CIRCLE',\n",
              "       'DEF_30_CNT_SOCIAL_CIRCLE', 'DEF_60_CNT_SOCIAL_CIRCLE',\n",
              "       'DAYS_LAST_PHONE_CHANGE', 'AMT_REQ_CREDIT_BUREAU_MON',\n",
              "       'AMT_REQ_CREDIT_BUREAU_QRT', 'AMT_REQ_CREDIT_BUREAU_YEAR',\n",
              "       'OWN_CAR_AGE_0.0', 'OWN_CAR_AGE_1.0', 'OWN_CAR_AGE_2.0'],\n",
              "      dtype='object')"
            ]
          },
          "metadata": {},
          "execution_count": 121
        }
      ]
    },
    {
      "cell_type": "code",
      "source": [
        "train_svc = train[use_features_svc]\n",
        "train_svc[\"TARGET\"] = target\n",
        "test_svc = test[use_features_svc]"
      ],
      "metadata": {
        "id": "3mHuZ05SrGNp"
      },
      "execution_count": 122,
      "outputs": []
    },
    {
      "cell_type": "code",
      "source": [
        "drop_features_svc = [\"OBS_30_CNT_SOCIAL_CIRCLE\",\"AMT_REQ_CREDIT_BUREAU_YEAR\"]\n",
        "train_svc = train.drop(drop_features_svc, axis=1)\n",
        "test_svc  = test.drop(drop_features_svc, axis=1)"
      ],
      "metadata": {
        "id": "18ByOhZP7uR_"
      },
      "execution_count": 123,
      "outputs": []
    },
    {
      "cell_type": "code",
      "source": [
        "cor = train_svc.corr()\n",
        "sns.heatmap(cor,vmin = -1, vmax = 1)"
      ],
      "metadata": {
        "colab": {
          "base_uri": "https://localhost:8080/",
          "height": 449
        },
        "id": "hyLi2yfs7QfF",
        "outputId": "ff508324-8ade-4dea-a1e8-7ea666d8a06f"
      },
      "execution_count": 124,
      "outputs": [
        {
          "output_type": "execute_result",
          "data": {
            "text/plain": [
              "<AxesSubplot:>"
            ]
          },
          "metadata": {},
          "execution_count": 124
        },
        {
          "output_type": "display_data",
          "data": {
            "text/plain": [
              "<Figure size 432x288 with 2 Axes>"
            ],
            "image/png": "[encoded data removed]"
          },
          "metadata": {
            "needs_background": "light"
          }
        }
      ]
    },
    {
      "cell_type": "code",
      "source": [
        "X_svc = train_svc.drop(\"TARGET\", axis=1).values\n",
        "y_svc = train_svc[\"TARGET\"].values\n",
        "X_test_svc = test_svc.values\n",
        "\n",
        "#標準化\n",
        "ss = StandardScaler()\n",
        "ss.fit(X_svc)\n",
        "X_std_svc = ss.transform(X_svc)\n",
        "X_test_std_svc = ss.transform(X_test_svc)\n",
        "\n",
        "X_train_svc, X_valid_svc, y_train_svc, y_valid_svc = train_test_split(X_std_svc, y_svc, test_size=0.3, stratify=y_svc, random_state=0)"
      ],
      "metadata": {
        "id": "Wg4okaE4rGNq"
      },
      "execution_count": 125,
      "outputs": []
    },
    {
      "cell_type": "code",
      "source": [
        "# LogisticRegression\n",
        "from sklearn.linear_model import LogisticRegression\n",
        "\n",
        "lr = LogisticRegression(random_state=0)\n",
        "lr.fit(X_train_svc, y_train_svc)\n",
        "\n",
        "lr_train_pred_svc = lr.predict_proba(X_train_svc)[:, 1]\n",
        "lr_valid_pred_svc = lr.predict_proba(X_valid_svc)[:, 1]\n",
        "print(f\"Train Score: {roc_auc_score(y_train_svc, lr_train_pred_svc)}\")\n",
        "print(f\"Valid Score: {roc_auc_score(y_valid_svc, lr_valid_pred_svc)}\")"
      ],
      "metadata": {
        "colab": {
          "base_uri": "https://localhost:8080/"
        },
        "outputId": "346c0fe0-7306-4289-fa2c-f878f0c2943a",
        "id": "F4TOi-8tq7lw"
      },
      "execution_count": 126,
      "outputs": [
        {
          "output_type": "stream",
          "name": "stdout",
          "text": [
            "Train Score: 0.7068790152291203\n",
            "Valid Score: 0.7043001605234014\n"
          ]
        }
      ]
    },
    {
      "cell_type": "code",
      "source": [
        "# MLPClassifier\n",
        "from sklearn.neural_network import MLPClassifier\n",
        "\n",
        "mlp = MLPClassifier(random_state=0)\n",
        "mlp.fit(X_train_svc, y_train_svc)\n",
        "\n",
        "mlp_train_pred_svc = mlp.predict_proba(X_train_svc)[:, 1]\n",
        "mlp_valid_pred_svc = mlp.predict_proba(X_valid_svc)[:, 1]\n",
        "print(f\"Train Score: {roc_auc_score(y_train_svc, mlp_train_pred_svc)}\")\n",
        "print(f\"Valid Score: {roc_auc_score(y_valid_svc, mlp_valid_pred_svc)}\")"
      ],
      "metadata": {
        "colab": {
          "base_uri": "https://localhost:8080/"
        },
        "id": "Mtq1Rc5Gq7mF",
        "outputId": "257c58fa-18ad-4c32-e0c9-196f2f2db7b3"
      },
      "execution_count": 127,
      "outputs": [
        {
          "output_type": "stream",
          "name": "stdout",
          "text": [
            "Train Score: 0.8124328383743753\n",
            "Valid Score: 0.6645178967271015\n"
          ]
        }
      ]
    },
    {
      "cell_type": "code",
      "source": [
        "# LGBMClassifier\n",
        "from lightgbm import LGBMClassifier\n",
        "\n",
        "lgb = LGBMClassifier(\n",
        "    max_bin=200,\n",
        "    min_data_in_leaf=20,\n",
        "    min_sum_hessian_in_leaf=1e-3,\n",
        "    max_depth=5,\n",
        "    subsample=0.5,\n",
        "    min_child_weight=15\n",
        "    )\n",
        "lgb.fit(X_train_svc, y_train_svc)\n",
        "\n",
        "lgb_train_pred_svc = lgb.predict_proba(X_train_svc)[:, 1]\n",
        "lgb_valid_pred_svc = lgb.predict_proba(X_valid_svc)[:, 1]\n",
        "print(f\"Train Score: {roc_auc_score(y_train_svc, lgb_train_pred_svc)}\")\n",
        "print(f\"Valid Score: {roc_auc_score(y_valid_svc, lgb_valid_pred_svc)}\")"
      ],
      "metadata": {
        "colab": {
          "base_uri": "https://localhost:8080/"
        },
        "outputId": "7315b303-8942-4ad1-e506-a24387e1cd81",
        "id": "-457S4Rtq7mF"
      },
      "execution_count": 128,
      "outputs": [
        {
          "output_type": "stream",
          "name": "stdout",
          "text": [
            "Train Score: 0.7823352956527291\n",
            "Valid Score: 0.7188696859860255\n"
          ]
        }
      ]
    },
    {
      "cell_type": "code",
      "source": [
        "# XGBClassifier\n",
        "from xgboost import XGBClassifier\n",
        "\n",
        "xgb = XGBClassifier(random_state=0)\n",
        "xgb.fit(X_train_svc, y_train_svc)\n",
        "\n",
        "xgb_train_pred_svc = xgb.predict_proba(X_train_svc)[:, 1]\n",
        "xgb_valid_pred_svc = xgb.predict_proba(X_valid_svc)[:, 1]\n",
        "print(f\"Train Score: {roc_auc_score(y_train_svc, xgb_train_pred_svc)}\")\n",
        "print(f\"Valid Score: {roc_auc_score(y_valid_svc, xgb_valid_pred_svc)}\")"
      ],
      "metadata": {
        "colab": {
          "base_uri": "https://localhost:8080/"
        },
        "outputId": "4c99b3ca-4398-4a08-bf56-1c36bfbc5a25",
        "id": "bvGv9iwTq7mG"
      },
      "execution_count": 129,
      "outputs": [
        {
          "output_type": "stream",
          "name": "stdout",
          "text": [
            "Train Score: 0.8787263650659018\n",
            "Valid Score: 0.7057472210315233\n"
          ]
        }
      ]
    },
    {
      "cell_type": "markdown",
      "source": [
        "### ランダムフォレスト分類"
      ],
      "metadata": {
        "id": "wn6flnz6v6bn"
      }
    },
    {
      "cell_type": "code",
      "source": [
        "#ランダムフォレスト分類\n",
        "from sklearn.ensemble import RandomForestClassifier\n",
        "rf = RandomForestClassifier()\n",
        "\n",
        "selector = SelectFromModel(rf) # 中央値以上の特徴量を選択\n",
        "\n",
        "X_new_rf = pd.DataFrame(selector.fit_transform(X_select, train[\"TARGET\"]), \n",
        "                     columns=X_select.columns.values[selector.get_support()])\n",
        "result_rf = pd.DataFrame(selector.get_support(), index=X_select.columns.values, columns=['False: dropped'])\n",
        "result_rf['featureImportances'] = selector.estimator_.feature_importances_  # Random Forest用\n",
        "print(result_rf)"
      ],
      "metadata": {
        "id": "nVglwMr2rUBz",
        "colab": {
          "base_uri": "https://localhost:8080/"
        },
        "outputId": "b4788285-6c4b-420d-b532-9290f77de12d"
      },
      "execution_count": 130,
      "outputs": [
        {
          "output_type": "stream",
          "name": "stdout",
          "text": [
            "                             False: dropped  featureImportances\n",
            "SK_ID_CURR                             True            0.059188\n",
            "NAME_CONTRACT_TYPE                    False            0.002827\n",
            "CODE_GENDER                           False            0.006889\n",
            "FLAG_OWN_CAR                          False            0.011469\n",
            "FLAG_OWN_REALTY                       False            0.012987\n",
            "CNT_CHILDREN                          False            0.011228\n",
            "AMT_INCOME_TOTAL                       True            0.043427\n",
            "AMT_CREDIT                             True            0.049912\n",
            "AMT_ANNUITY                            True            0.055002\n",
            "AMT_GOODS_PRICE                        True            0.040936\n",
            "NAME_TYPE_SUITE                       False            0.010804\n",
            "NAME_INCOME_TYPE                      False            0.008769\n",
            "NAME_EDUCATION_TYPE                   False            0.009106\n",
            "NAME_FAMILY_STATUS                    False            0.016459\n",
            "NAME_HOUSING_TYPE                     False            0.009947\n",
            "REGION_POPULATION_RELATIVE             True            0.044489\n",
            "DAYS_BIRTH                             True            0.060966\n",
            "DAYS_EMPLOYED                          True            0.053345\n",
            "DAYS_REGISTRATION                      True            0.060159\n",
            "DAYS_ID_PUBLISH                        True            0.060501\n",
            "FLAG_MOBIL                            False            0.000000\n",
            "FLAG_EMP_PHONE                        False            0.001820\n",
            "FLAG_WORK_PHONE                       False            0.007037\n",
            "FLAG_CONT_MOBILE                      False            0.000456\n",
            "FLAG_PHONE                            False            0.007673\n",
            "FLAG_EMAIL                            False            0.003984\n",
            "CNT_FAM_MEMBERS                       False            0.015827\n",
            "REGION_RATING_CLIENT                  False            0.006850\n",
            "REGION_RATING_CLIENT_W_CITY           False            0.007010\n",
            "REG_REGION_NOT_LIVE_REGION            False            0.001571\n",
            "REG_REGION_NOT_WORK_REGION            False            0.002742\n",
            "LIVE_REGION_NOT_WORK_REGION           False            0.002486\n",
            "REG_CITY_NOT_LIVE_CITY                False            0.004877\n",
            "REG_CITY_NOT_WORK_CITY                False            0.005800\n",
            "LIVE_CITY_NOT_WORK_CITY               False            0.005546\n",
            "ORGANIZATION_TYPE                      True            0.031272\n",
            "EXT_SOURCE_2                           True            0.084566\n",
            "OBS_30_CNT_SOCIAL_CIRCLE               True            0.019918\n",
            "DEF_30_CNT_SOCIAL_CIRCLE              False            0.007808\n",
            "OBS_60_CNT_SOCIAL_CIRCLE               True            0.019779\n",
            "DEF_60_CNT_SOCIAL_CIRCLE              False            0.006525\n",
            "DAYS_LAST_PHONE_CHANGE                 True            0.052698\n",
            "AMT_REQ_CREDIT_BUREAU_HOUR            False            0.006205\n",
            "AMT_REQ_CREDIT_BUREAU_MON             False            0.012450\n",
            "AMT_REQ_CREDIT_BUREAU_QRT             False            0.013535\n",
            "AMT_REQ_CREDIT_BUREAU_YEAR             True            0.028400\n",
            "OWN_CAR_AGE_0.0                       False            0.004879\n",
            "OWN_CAR_AGE_1.0                       False            0.005249\n",
            "OWN_CAR_AGE_2.0                       False            0.003023\n",
            "OWN_CAR_AGE_3.0                       False            0.001280\n",
            "OWN_CAR_AGE_4.0                       False            0.000293\n",
            "OWN_CAR_AGE_5.0                       False            0.000032\n"
          ]
        }
      ]
    },
    {
      "cell_type": "code",
      "source": [
        "use_features_rf = result_rf[result_rf['False: dropped'] == True].index\n",
        "use_features_rf"
      ],
      "metadata": {
        "id": "djbk0_m5z8ue",
        "colab": {
          "base_uri": "https://localhost:8080/"
        },
        "outputId": "854b238b-92f8-4717-87bd-cc3e0919e70d"
      },
      "execution_count": 131,
      "outputs": [
        {
          "output_type": "execute_result",
          "data": {
            "text/plain": [
              "Index(['SK_ID_CURR', 'AMT_INCOME_TOTAL', 'AMT_CREDIT', 'AMT_ANNUITY',\n",
              "       'AMT_GOODS_PRICE', 'REGION_POPULATION_RELATIVE', 'DAYS_BIRTH',\n",
              "       'DAYS_EMPLOYED', 'DAYS_REGISTRATION', 'DAYS_ID_PUBLISH',\n",
              "       'ORGANIZATION_TYPE', 'EXT_SOURCE_2', 'OBS_30_CNT_SOCIAL_CIRCLE',\n",
              "       'OBS_60_CNT_SOCIAL_CIRCLE', 'DAYS_LAST_PHONE_CHANGE',\n",
              "       'AMT_REQ_CREDIT_BUREAU_YEAR'],\n",
              "      dtype='object')"
            ]
          },
          "metadata": {},
          "execution_count": 131
        }
      ]
    },
    {
      "cell_type": "code",
      "source": [
        "train_rf = train[use_features_rf]\n",
        "train_rf[\"TARGET\"] = target\n",
        "test_rf = test[use_features_rf]"
      ],
      "metadata": {
        "id": "KrtLxm520weT"
      },
      "execution_count": 132,
      "outputs": []
    },
    {
      "cell_type": "code",
      "source": [
        "drop_features_rf = [\"DAYS_EMPLOYED\",\"DAYS_REGISTRATION\",\"AMT_ANNUITY\",\"OBS_30_CNT_SOCIAL_CIRCLE\",\"AMT_REQ_CREDIT_BUREAU_YEAR\"]\n",
        "train_rf = train_rf.drop(drop_features_rf, axis=1)\n",
        "test_rf = test_rf.drop(drop_features_rf, axis=1)"
      ],
      "metadata": {
        "id": "75ta3tzoulvC"
      },
      "execution_count": 133,
      "outputs": []
    },
    {
      "cell_type": "code",
      "source": [
        "cor = train_rf.corr()\n",
        "sns.heatmap(cor,vmin = -1, vmax = 1)"
      ],
      "metadata": {
        "colab": {
          "base_uri": "https://localhost:8080/",
          "height": 436
        },
        "outputId": "f682fd79-dfcf-48a6-e9d9-aac7b5b27bb1",
        "id": "gd1mjngXGUbn"
      },
      "execution_count": 134,
      "outputs": [
        {
          "output_type": "execute_result",
          "data": {
            "text/plain": [
              "<AxesSubplot:>"
            ]
          },
          "metadata": {},
          "execution_count": 134
        },
        {
          "output_type": "display_data",
          "data": {
            "text/plain": [
              "<Figure size 432x288 with 2 Axes>"
            ],
            "image/png": "[encoded data removed]"
          },
          "metadata": {
            "needs_background": "light"
          }
        }
      ]
    },
    {
      "cell_type": "code",
      "source": [
        "X_rf = train_rf.drop(\"TARGET\", axis=1).values\n",
        "y_rf = train_rf[\"TARGET\"].values\n",
        "X_test_rf = test_rf.values\n",
        "\n",
        "#標準化\n",
        "ss = StandardScaler()\n",
        "ss.fit(X_rf)\n",
        "X_std_rf = ss.transform(X_rf)\n",
        "X_test_std_rf = ss.transform(X_test_rf)\n",
        "\n",
        "X_train_rf, X_valid_rf, y_train_rf, y_valid_rf = train_test_split(X_std_rf, y_rf, test_size=0.3, stratify=y_rf, random_state=0)"
      ],
      "metadata": {
        "id": "ZsqvEfvGGUbq"
      },
      "execution_count": 135,
      "outputs": []
    },
    {
      "cell_type": "code",
      "source": [
        "# LogisticRegression\n",
        "from sklearn.linear_model import LogisticRegression\n",
        "\n",
        "lr = LogisticRegression(random_state=0)\n",
        "lr.fit(X_train_rf, y_train_rf)\n",
        "\n",
        "lr_train_pred_rf = lr.predict_proba(X_train_rf)[:, 1]\n",
        "lr_valid_pred_rf = lr.predict_proba(X_valid_rf)[:, 1]\n",
        "print(f\"Train Score: {roc_auc_score(y_train_rf, lr_train_pred_rf)}\")\n",
        "print(f\"Valid Score: {roc_auc_score(y_valid_rf, lr_valid_pred_rf)}\")"
      ],
      "metadata": {
        "colab": {
          "base_uri": "https://localhost:8080/"
        },
        "outputId": "29ab975b-d0c8-4c2e-f195-f8e026394e16",
        "id": "1KPCVAYmGUbr"
      },
      "execution_count": 136,
      "outputs": [
        {
          "output_type": "stream",
          "name": "stdout",
          "text": [
            "Train Score: 0.6832253567449376\n",
            "Valid Score: 0.6831421003743537\n"
          ]
        }
      ]
    },
    {
      "cell_type": "code",
      "source": [
        "# MLPClassifier\n",
        "from sklearn.neural_network import MLPClassifier\n",
        "\n",
        "mlp = MLPClassifier(random_state=0)\n",
        "mlp.fit(X_train_rf, y_train_rf)\n",
        "\n",
        "mlp_train_pred_rf = mlp.predict_proba(X_train_rf)[:, 1]\n",
        "mlp_valid_pred_rf = mlp.predict_proba(X_valid_rf)[:, 1]\n",
        "print(f\"Train Score: {roc_auc_score(y_train_rf, mlp_train_pred_rf)}\")\n",
        "print(f\"Valid Score: {roc_auc_score(y_valid_rf, mlp_valid_pred_rf)}\")"
      ],
      "metadata": {
        "colab": {
          "base_uri": "https://localhost:8080/"
        },
        "outputId": "f003d2eb-71b9-4a51-c0f2-1733abc1e173",
        "id": "8Y64xAWuGUbr"
      },
      "execution_count": 137,
      "outputs": [
        {
          "output_type": "stream",
          "name": "stdout",
          "text": [
            "Train Score: 0.7082214216450711\n",
            "Valid Score: 0.6898411363399632\n"
          ]
        }
      ]
    },
    {
      "cell_type": "code",
      "source": [
        "# LGBMClassifier\n",
        "from lightgbm import LGBMClassifier\n",
        "\n",
        "lgb = LGBMClassifier(\n",
        "    max_bin=200,\n",
        "    min_data_in_leaf=20,\n",
        "    min_sum_hessian_in_leaf=1e-3,\n",
        "    max_depth=5,\n",
        "    subsample=0.5,\n",
        "    min_child_weight=15\n",
        "    )\n",
        "lgb.fit(X_train_rf, y_train_rf)\n",
        "\n",
        "lgb_train_pred_rf = lgb.predict_proba(X_train_rf)[:, 1]\n",
        "lgb_valid_pred_rf = lgb.predict_proba(X_valid_rf)[:, 1]\n",
        "print(f\"Train Score: {roc_auc_score(y_train_rf, lgb_train_pred_rf)}\")\n",
        "print(f\"Valid Score: {roc_auc_score(y_valid_rf, lgb_valid_pred_rf)}\")"
      ],
      "metadata": {
        "colab": {
          "base_uri": "https://localhost:8080/"
        },
        "outputId": "0d9ee467-4ee2-41a1-8281-a72f04438ab7",
        "id": "61eK8ixxGUbs"
      },
      "execution_count": 138,
      "outputs": [
        {
          "output_type": "stream",
          "name": "stdout",
          "text": [
            "Train Score: 0.7549932103870876\n",
            "Valid Score: 0.700023509171412\n"
          ]
        }
      ]
    },
    {
      "cell_type": "code",
      "source": [
        "# XGBClassifier\n",
        "from xgboost import XGBClassifier\n",
        "\n",
        "xgb = XGBClassifier(random_state=0)\n",
        "xgb.fit(X_train_rf, y_train_rf)\n",
        "\n",
        "xgb_train_pred_rf = xgb.predict_proba(X_train_rf)[:, 1]\n",
        "xgb_valid_pred_rf = xgb.predict_proba(X_valid_rf)[:, 1]\n",
        "print(f\"Train Score: {roc_auc_score(y_train_rf, xgb_train_pred_rf)}\")\n",
        "print(f\"Valid Score: {roc_auc_score(y_valid_rf, xgb_valid_pred_rf)}\")"
      ],
      "metadata": {
        "colab": {
          "base_uri": "https://localhost:8080/"
        },
        "outputId": "b65de1e6-fefc-4464-8243-f2bfb62d9360",
        "id": "5-DDrOR1GUbs"
      },
      "execution_count": 139,
      "outputs": [
        {
          "output_type": "stream",
          "name": "stdout",
          "text": [
            "Train Score: 0.8479237280681571\n",
            "Valid Score: 0.6831138096765527\n"
          ]
        }
      ]
    },
    {
      "cell_type": "markdown",
      "source": [
        "# まとめ\n",
        "L1正則化線形モデルを用いたほうがランダムフォレスト分類よりも精度がよい"
      ],
      "metadata": {
        "id": "msHie1S0lHn-"
      }
    }
  ]
}